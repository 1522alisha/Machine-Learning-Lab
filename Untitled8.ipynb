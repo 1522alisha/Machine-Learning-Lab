{
  "nbformat": 4,
  "nbformat_minor": 0,
  "metadata": {
    "colab": {
      "provenance": [],
      "authorship_tag": "ABX9TyO2Rzx3imxynz+As5KW65K2",
      "include_colab_link": true
    },
    "kernelspec": {
      "name": "python3",
      "display_name": "Python 3"
    },
    "language_info": {
      "name": "python"
    }
  },
  "cells": [
    {
      "cell_type": "markdown",
      "metadata": {
        "id": "view-in-github",
        "colab_type": "text"
      },
      "source": [
        "<a href=\"https://colab.research.google.com/github/1522alisha/Machine-Learning-Lab/blob/main/Untitled8.ipynb\" target=\"_parent\"><img src=\"https://colab.research.google.com/assets/colab-badge.svg\" alt=\"Open In Colab\"/></a>"
      ]
    },
    {
      "cell_type": "code",
      "execution_count": 1,
      "metadata": {
        "id": "HI2OPhSyMR1v",
        "outputId": "0c9c72dd-0fae-4945-a4ed-4833237b7ddb",
        "colab": {
          "base_uri": "https://localhost:8080/"
        }
      },
      "outputs": [
        {
          "output_type": "stream",
          "name": "stdout",
          "text": [
            "8\n"
          ]
        }
      ],
      "source": [
        "def power(x: float, n: int) -> float:\n",
        "    \"\"\"Return xⁿ using plain recursion (O(n) calls).\"\"\"\n",
        "    if n == 0:\n",
        "        return 1\n",
        "    elif n < 0:                 # handle negative exponents\n",
        "        return 1 / power(x, -n)\n",
        "    else:\n",
        "        return x * power(x, n - 1)\n",
        "\n",
        "\n",
        "# demo\n",
        "print(power(2, 3))   # ➜ 8"
      ]
    }
  ]
}