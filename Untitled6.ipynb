{
  "nbformat": 4,
  "nbformat_minor": 0,
  "metadata": {
    "colab": {
      "provenance": [],
      "authorship_tag": "ABX9TyO0VETDOKExGD/XOZhPPHv+",
      "include_colab_link": true
    },
    "kernelspec": {
      "name": "python3",
      "display_name": "Python 3"
    },
    "language_info": {
      "name": "python"
    }
  },
  "cells": [
    {
      "cell_type": "markdown",
      "metadata": {
        "id": "view-in-github",
        "colab_type": "text"
      },
      "source": [
        "<a href=\"https://colab.research.google.com/github/1522alisha/Machine-Learning-Lab/blob/main/Untitled6.ipynb\" target=\"_parent\"><img src=\"https://colab.research.google.com/assets/colab-badge.svg\" alt=\"Open In Colab\"/></a>"
      ]
    },
    {
      "cell_type": "code",
      "execution_count": 1,
      "metadata": {
        "id": "38mzHRtWLBxW",
        "outputId": "56df58cb-57e3-48f9-eac7-2ce85eeae9de",
        "colab": {
          "base_uri": "https://localhost:8080/"
        }
      },
      "outputs": [
        {
          "output_type": "stream",
          "name": "stdout",
          "text": [
            "14\n"
          ]
        }
      ],
      "source": [
        "def sum_of_digit_squares(n: int) -> int:\n",
        "    \"\"\"\n",
        "    Return the sum of the squares of the digits of n.\n",
        "    Example: 132 → 1² + 3² + 2² = 14\n",
        "    \"\"\"\n",
        "    n = abs(n)                 # handle negatives gracefully\n",
        "    return sum((int(d) ** 2) for d in str(n))\n",
        "\n",
        "\n",
        "# quick test\n",
        "print(sum_of_digit_squares(132))   # ➜ 14"
      ]
    }
  ]
}