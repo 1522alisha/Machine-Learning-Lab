{
  "nbformat": 4,
  "nbformat_minor": 0,
  "metadata": {
    "colab": {
      "provenance": [],
      "authorship_tag": "ABX9TyPuiNnIC08NyOFU3iBjXqaK",
      "include_colab_link": true
    },
    "kernelspec": {
      "name": "python3",
      "display_name": "Python 3"
    },
    "language_info": {
      "name": "python"
    }
  },
  "cells": [
    {
      "cell_type": "markdown",
      "metadata": {
        "id": "view-in-github",
        "colab_type": "text"
      },
      "source": [
        "<a href=\"https://colab.research.google.com/github/1522alisha/Machine-Learning-Lab/blob/main/Untitled3.ipynb\" target=\"_parent\"><img src=\"https://colab.research.google.com/assets/colab-badge.svg\" alt=\"Open In Colab\"/></a>"
      ]
    },
    {
      "cell_type": "code",
      "execution_count": 1,
      "metadata": {
        "colab": {
          "base_uri": "https://localhost:8080/"
        },
        "id": "spsbFlSFH37L",
        "outputId": "237db03e-533e-4d47-ab11-2c4604482c12"
      },
      "outputs": [
        {
          "output_type": "stream",
          "name": "stdout",
          "text": [
            "Enter numbers separated by spaces: 1 2 3 4 5\n",
            "Original numbers: [1.0, 2.0, 3.0, 4.0, 5.0]\n",
            "Squared numbers: [1.0, 4.0, 9.0, 16.0, 25.0]\n"
          ]
        }
      ],
      "source": [
        "# Ask the user to enter a list of numbers separated by spaces\n",
        "input_str = input(\"Enter numbers separated by spaces: \")\n",
        "\n",
        "# Convert the input string into a list of numbers\n",
        "numbers = [float(num) for num in input_str.split()]\n",
        "\n",
        "# Create a new list with the squares of the numbers\n",
        "squares = [num ** 2 for num in numbers]\n",
        "\n",
        "# Display the result\n",
        "print(\"Original numbers:\", numbers)\n",
        "print(\"Squared numbers:\", squares)"
      ]
    }
  ]
}