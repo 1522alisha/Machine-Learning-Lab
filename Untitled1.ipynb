{
  "nbformat": 4,
  "nbformat_minor": 0,
  "metadata": {
    "colab": {
      "provenance": [],
      "authorship_tag": "ABX9TyOa8OxumiURRZwJe5Nxj9Ag",
      "include_colab_link": true
    },
    "kernelspec": {
      "name": "python3",
      "display_name": "Python 3"
    },
    "language_info": {
      "name": "python"
    }
  },
  "cells": [
    {
      "cell_type": "markdown",
      "metadata": {
        "id": "view-in-github",
        "colab_type": "text"
      },
      "source": [
        "<a href=\"https://colab.research.google.com/github/1522alisha/Machine-Learning-Lab/blob/main/Untitled1.ipynb\" target=\"_parent\"><img src=\"https://colab.research.google.com/assets/colab-badge.svg\" alt=\"Open In Colab\"/></a>"
      ]
    },
    {
      "cell_type": "code",
      "execution_count": 1,
      "metadata": {
        "colab": {
          "base_uri": "https://localhost:8080/"
        },
        "id": "5QZmwqW4CdKH",
        "outputId": "4125f34d-3fb3-48dd-d5e3-1a0920bb857d"
      },
      "outputs": [
        {
          "output_type": "stream",
          "name": "stdout",
          "text": [
            "Value: 5100.25\n",
            "Data Type: <class 'float'>\n"
          ]
        }
      ],
      "source": [
        "integer_number = 5000\n",
        "float_number = 100.25\n",
        "\n",
        "new_number = integer_number + float_number\n",
        "\n",
        "#display new value and resulting data type\n",
        "print(\"Value:\", new_number)\n",
        "print(\"Data Type:\",type(new_number))\n"
      ]
    },
    {
      "cell_type": "code",
      "source": [
        ""
      ],
      "metadata": {
        "id": "3Xo7STK2ExEZ"
      },
      "execution_count": null,
      "outputs": []
    },
    {
      "cell_type": "code",
      "source": [],
      "metadata": {
        "id": "etHux3BYEvVQ"
      },
      "execution_count": null,
      "outputs": []
    }
  ]
}