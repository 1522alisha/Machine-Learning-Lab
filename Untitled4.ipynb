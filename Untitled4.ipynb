{
  "nbformat": 4,
  "nbformat_minor": 0,
  "metadata": {
    "colab": {
      "provenance": [],
      "authorship_tag": "ABX9TyOs/118es3kuOAJ9VuLYR4U",
      "include_colab_link": true
    },
    "kernelspec": {
      "name": "python3",
      "display_name": "Python 3"
    },
    "language_info": {
      "name": "python"
    }
  },
  "cells": [
    {
      "cell_type": "markdown",
      "metadata": {
        "id": "view-in-github",
        "colab_type": "text"
      },
      "source": [
        "<a href=\"https://colab.research.google.com/github/1522alisha/Machine-Learning-Lab/blob/main/Untitled4.ipynb\" target=\"_parent\"><img src=\"https://colab.research.google.com/assets/colab-badge.svg\" alt=\"Open In Colab\"/></a>"
      ]
    },
    {
      "cell_type": "code",
      "execution_count": 1,
      "metadata": {
        "id": "OXUka-JVJGHK",
        "outputId": "1ce74c1f-3b4d-47dd-badd-f40cf93eac6b",
        "colab": {
          "base_uri": "https://localhost:8080/"
        }
      },
      "outputs": [
        {
          "output_type": "stream",
          "name": "stdout",
          "text": [
            "[3, 4, 5]\n"
          ]
        }
      ],
      "source": [
        "from collections import Counter\n",
        "\n",
        "def unique_elements(lst):\n",
        "    \"\"\"Return the elements that occur exactly once in lst, preserving order.\"\"\"\n",
        "    freq = Counter(lst)           # frequency of every item\n",
        "    return [x for x in lst if freq[x] == 1]\n",
        "\n",
        "# Demo\n",
        "nums = [1, 2, 3, 2, 4, 1, 5]\n",
        "print(unique_elements(nums))      # ➜ [3, 4, 5]"
      ]
    }
  ]
}