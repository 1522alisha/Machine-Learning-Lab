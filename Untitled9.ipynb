{
  "nbformat": 4,
  "nbformat_minor": 0,
  "metadata": {
    "colab": {
      "provenance": [],
      "authorship_tag": "ABX9TyO5IZkomkFG6Cs4Gu1x4b+a",
      "include_colab_link": true
    },
    "kernelspec": {
      "name": "python3",
      "display_name": "Python 3"
    },
    "language_info": {
      "name": "python"
    }
  },
  "cells": [
    {
      "cell_type": "markdown",
      "metadata": {
        "id": "view-in-github",
        "colab_type": "text"
      },
      "source": [
        "<a href=\"https://colab.research.google.com/github/1522alisha/Machine-Learning-Lab/blob/main/Untitled9.ipynb\" target=\"_parent\"><img src=\"https://colab.research.google.com/assets/colab-badge.svg\" alt=\"Open In Colab\"/></a>"
      ]
    },
    {
      "cell_type": "code",
      "execution_count": 1,
      "metadata": {
        "colab": {
          "base_uri": "https://localhost:8080/"
        },
        "id": "CWiSBN72NasH",
        "outputId": "371af3c2-eb6e-4173-bfee-3346cb642c97"
      },
      "outputs": [
        {
          "output_type": "stream",
          "name": "stdout",
          "text": [
            "Initial list:        [1, 2, 3, 4, 5, 6, 7, 8, 9, 10]\n",
            "After append(42):    [1, 2, 3, 4, 5, 6, 7, 8, 9, 10, 42]\n",
            "After insert(3,99):  [1, 2, 3, 99, 4, 5, 6, 7, 8, 9, 10, 42]\n",
            "After remove(5):     [1, 2, 3, 99, 4, 6, 7, 8, 9, 10, 42]\n",
            "After pop(0) [1 popped]: [2, 3, 99, 4, 6, 7, 8, 9, 10, 42]\n"
          ]
        }
      ],
      "source": [
        "# ---------------------------------------------\n",
        "# 0) Create a list of 10 integers\n",
        "# ---------------------------------------------\n",
        "nums = list(range(1, 11))          # [1, 2, 3, …, 10]\n",
        "print(\"Initial list:       \", nums)\n",
        "\n",
        "# ---------------------------------------------\n",
        "# 1) Append an element to the end\n",
        "# ---------------------------------------------\n",
        "nums.append(42)                    # add 42 at the tail\n",
        "print(\"After append(42):   \", nums)\n",
        "\n",
        "# ---------------------------------------------\n",
        "# 2) Insert an element at a specific position\n",
        "#    (index 3 → 4th slot, zero‑based numbering)\n",
        "# ---------------------------------------------\n",
        "nums.insert(3, 99)                 # put 99 at index 3\n",
        "print(\"After insert(3,99): \", nums)\n",
        "\n",
        "# ---------------------------------------------\n",
        "# 3) Remove the first occurrence of a value\n",
        "# ---------------------------------------------\n",
        "nums.remove(5)                     # delete the first ‘5’\n",
        "print(\"After remove(5):    \", nums)\n",
        "\n",
        "# ---------------------------------------------\n",
        "# 4) Pop (and retrieve) an element at a position\n",
        "#    Here we pop index 0 (the first element)\n",
        "# ---------------------------------------------\n",
        "popped = nums.pop(0)\n",
        "print(f\"After pop(0) [{popped} popped]:\", nums)\n"
      ]
    }
  ]
}