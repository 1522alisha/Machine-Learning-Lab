{
  "nbformat": 4,
  "nbformat_minor": 0,
  "metadata": {
    "colab": {
      "provenance": [],
      "authorship_tag": "ABX9TyPcRdRqd0XSkZrUfcMczHtP",
      "include_colab_link": true
    },
    "kernelspec": {
      "name": "python3",
      "display_name": "Python 3"
    },
    "language_info": {
      "name": "python"
    }
  },
  "cells": [
    {
      "cell_type": "markdown",
      "metadata": {
        "id": "view-in-github",
        "colab_type": "text"
      },
      "source": [
        "<a href=\"https://colab.research.google.com/github/1522alisha/Machine-Learning-Lab/blob/main/Untitled11.ipynb\" target=\"_parent\"><img src=\"https://colab.research.google.com/assets/colab-badge.svg\" alt=\"Open In Colab\"/></a>"
      ]
    },
    {
      "cell_type": "code",
      "execution_count": 2,
      "metadata": {
        "colab": {
          "base_uri": "https://localhost:8080/"
        },
        "id": "BLXRtdFpPL1_",
        "outputId": "19bb0653-e1aa-45dd-cb77-7db6db82a057"
      },
      "outputs": [
        {
          "output_type": "stream",
          "name": "stdout",
          "text": [
            "Address of self   = 136615217602128\n",
            "Address of obj    = 136615217602128\n"
          ]
        }
      ],
      "source": [
        "class Check:\n",
        "    def __init__(self):\n",
        "        # Inside the constructor, `self` is a reference to\n",
        "        # the object that is being created.\n",
        "        print(\"Address of self   =\", id(self))\n",
        "\n",
        "\n",
        "# Create an object and keep its reference in `obj`\n",
        "obj = Check()\n",
        "\n",
        "# Outside the class, print the identity of that same object\n",
        "print(\"Address of obj    =\", id(obj))\n"
      ]
    }
  ]
}